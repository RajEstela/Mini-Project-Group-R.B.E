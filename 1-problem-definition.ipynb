{
 "cells": [
  {
   "cell_type": "markdown",
   "metadata": {},
   "source": [
    "# Problem Definition #1\n",
    "\n",
    "What champion composition for each position will maximize the chances of winning?\n",
    "\n",
    "# Problem Definition #2\n",
    "\n",
    "What is the best variable in predicting the total combined gold value? "
   ]
  },
  {
   "cell_type": "markdown",
   "metadata": {},
   "source": [
    "## Objective #1\n",
    "For the first problem definition the objective of this project is to analyze data from official competitive matches of League of Legends and identify the best combinations of champions that result in the highest win rates. By leveraging a dataset containing comprehensive information on competitive games and another dataset containing details about individual champions, the aim is to provide insights into the best compositions that lead to success in professional League of Legends play.\n",
    "\n",
    "## Objective #2\n",
    "For the second problem definition our objective is to analyze the main variables that affec the overall value of the in-gold game in currency in a League Of Legends match. As gold reflects the team's wealth and resources it is a very important factor in deciding the winner of a game. We would also like to acquire the best most suitable variable that we will be able to use predicting the overall value of gold in a game. \n"
   ]
  },
  {
   "cell_type": "markdown",
   "metadata": {},
   "source": [
    "## Datasets Description\n",
    "\n",
    "### 1. League of Legends - 2024 Competitive Game Dataset\n",
    "\n",
    "This dataset contains information on official competitive matches, including match outcomes, team compositions, game duration, and other relevant attributes. Each record represents a single game played by two teams in a professional setting. This will be the main dataset for the Exploratory Data Analysis.\n",
    "\n",
    "Source - `https://www.kaggle.com/datasets/barthetur/league-of-legends-2024-competitive-game-dataset`\n",
    "\n",
    "### 2. Champions Dataset\n",
    "\n",
    "This dataset offers detailed information about individual champions in League of Legends, such as their name, attributes, abilities, roles, and other pertinent statistics. Each entry in this dataset corresponds to a specific champion. This dataset will supplement the main dataset with the information of each champion, specifically the champion's class.\n",
    "\n",
    "Source - `https://www.kaggle.com/datasets/uskeche/leauge-of-legends-champions-dataset`"
   ]
  },
  {
   "cell_type": "markdown",
   "metadata": {},
   "source": [
    "## Key Tasks\n",
    "\n",
    "### Data Preparation and Cleaning\n",
    "Prepare and clean the datasets to ensure compatibility and accuracy for analysis. This includes handling missing values, standardizing data formats, removing irrelevant information and merging relevant information from both datasets.\n",
    "\n",
    "### Exploratory Data Analysis\n",
    "Conduct exploratory analysis on the combined dataset to gain insights into the distribution of champion picks, win rates, gold earned, objective scores and other relevant factors. Explore correlations between champion attributes and match outcomes to identify potential patterns and exploring correlations between gold affecting variables to total gold. \n",
    "\n",
    "\n",
    "### Feature Engineering: Derive new features or metrics from the existing data that may enhance the predictive power of the analysis. This could involve calculating champion synergy scores, role-specific performance metrics, or other relevant indicators of team composition effectiveness.\n",
    "\n",
    "### Model Development: \n",
    "Build predictive models or algorithms to identify optimal variable that will accurately predict the total combined value of gold in a game. This may involve techniques such as machine learning and statistical analysis.\n",
    "\n",
    "### Evaluation and Validation: Evaluate the performance of the developed models using appropriate metrics and validation techniques. Assess the robustness and generalizability of the findings to ensure reliability in real-world applications.\n",
    "\n",
    "### Insights and Recommendations: \n",
    "Provide actionable insights and recommendations based on the analysis results. Identify the specific champion combination that demonstrate the highest potential for success in competitive play, along with which game variable a team should focus on the most to maximise the amount of gold they earn in the game.\n"
   ]
  },
  {
   "cell_type": "markdown",
   "metadata": {},
   "source": [
    "## Deliverables\n",
    "\n",
    "Preprocessed and merged dataset ready for analysis.\n",
    "Exploratory data analysis report highlighting key insights and trends.\n",
    "Feature engineering documentation detailing the creation of new variables or metrics.\n",
    "Model development documentation outlining the methodology and approach.\n",
    "Evaluation and validation results showcasing the performance of the developed models.\n",
    "Final report summarizing key findings, insights, and recommendations for champion selection in competitive League of Legends matches."
   ]
  },
  {
   "cell_type": "markdown",
   "metadata": {},
   "source": [
    "## Success Criteria\n",
    "\n",
    "The project will be considered successful if it can accurately identify champion combinations that consistently result in high win rates in professional League of Legends competitive matches. Success will be measured based on the predictive accuracy and practical applicability of the developed models, as well as the significance of the insights and recommendations provided."
   ]
  },
  {
   "cell_type": "markdown",
   "metadata": {},
   "source": [
    "FAQs for the Mini-Project\n",
    "\n",
    "What is the Grading Scheme for the Mini-Project?\n",
    "10% for coming up with your own problem definition based on a dataset\n",
    "10% for data preparation and cleaning to suit the problem of your choice\n",
    "20% for exploratory data analysis/visualization to gather relevant insights\n",
    "20% for the use of machine learning techniques to solve specific problem\n",
    "20% for the presentation of data-driven insights and the recommendations\n",
    "10% for the quality of your final team presentation and overall impressions\n",
    "10% for learning something new and doing something beyond this course\n",
    "Your individual contribution will be evaluated through peer assessment.\n",
    "This evaluation will be used as a \"scaling factor\" for your overall score.\n",
    "If you are attempting something different, especially something that you think do not fit naturally into the grading scheme, feel free to discuss with your Lab TA directly. They will mentor you and also grade your project.\n",
    "\n",
    "What is an \"interesting problem\" based on the dataset?\n",
    "Talk to your Lab TA. They will be able to help you choose something interesting. It should not be something that you can solve by copy-pasting the LinearRegression or DecisionTreeClassifier codes from the regular course material. There should be something beyond that, for which you will have to learn something new, or apply some new technique. If you are unsure whether your problem is interesting, ask for the Lab TA's advice. They will mentor you on this.\n",
    "Warning : In quest for \"interesting problem\", please do not attempt something that you can't finish in time.\n",
    "\n",
    "What do you mean by \"data preparation and cleaning\"?\n",
    "The dataset chosen by you may not be in the proper format to solve the problem you targeted. Preparing means cleaning the data, resizing/reshaping the data, removing outliers (if necessary), balancing imbalanced classes (if necessary), grouping the rows/columns as necessary, etc. This is an important part of any DS/ML project. You may also have to join/merge multiple data sources, plus extract/scrape data from various online sources to work on your problem.\n",
    "\n",
    "How much of visualization should be presented?\n",
    "It's a part of the 20% in EDA, so do not spend the bulk of time on cool visualization tools. Do standard exploration of the data, and standard statistical visualizations, as done during the course, just to understand your data well enough, and gather relevant insights that you can present in support of your business case. You DO NOT need to produce data dashboards and cool web interfaces to do an impressive project.\n",
    "Warning : In quest for \"cool presentation\", please do not try something that takes too much time to learn.\n",
    "\n",
    "How much of machine learning techniques should I use for the project?\n",
    "This is important, but not the ONLY focus of your project. You may use any tool and technique that you have seen during the course, for Regression and Classification, but make sure that it is actually required to solve the problem you formulate on the dataset you choose. If you want something simple, stick to Scikit-Learn as your ML toolbox. You may also choose to use new models that you have not seen in the course, like Random Forest for regression, Naive Bayes for classification, or the Xtra Module techniques like clustering, anomaly detection, etc. This will also satisfy the criteria of \"learning something new\" in parallel.\n",
    "Warning : In quest for \"quick impression\", please do not try complex tools that takes too much time to learn.\n",
    "\n",
    "What do you mean by \"learning something new\" beyond the course?\n",
    "The goal for the mini-project is to make you learn something new. Try to use a new ML model for regression or classification, beyond what we have already covered in the course, or apply a model for clustering or anomaly detection. That's the quickest way to prove you learned something new. You may also want to explore a new visualization tool (like Plotly), or a new technique for data preparation (like resampling), or explore additional/extra data beyond what have been suggested for your project.\n",
    "Warning : In quest for \"quick impression\", please do not try to learn too many new things at the same time.\n",
    "\n",
    "What is the format for the final Presentation?\n",
    "You will submit a 10 minute video as your final presentation. You may format it as a PPT/PDF/Google Slides presentation on the problem you chose, along with some snippets of your code from Jupyter Notebook/Google Colab, and relevant visualizations. You may also feel free to \"demonstrate\" any tool or app that you built based on the dataset or your problem. You DO NOT need to show raw code during the presentation, but you may of course, if you want. The idea for the presentation will be a complete video, explaining all the steps from your motivation to your data-driven solution to the problem. Pay attention to the grading scheme to judge what to present in the video.\n",
    "Warning : In quest for \"quick impression\", please do not try to \"produce a film\" with cool animations and stuff. That's not the point! ;-)\n",
    "\n",
    "Who will grade my Mini-Project?\n",
    "The Presentations will be graded by your own Lab's TA. The Instructors (Smitha and Ong Chin Ann) will NOT grade your project. Thus, it is imperative that you talk to your Lab TA. They will mentor you as well as grade your project.\n",
    "\n",
    "What will I finally submit for the Mini-Project?\n",
    "You will have to submit your Presentation Video, the PPT/PDF slides used for the Presentation, all your codes on Github (Jupyter Notebooks, Python codes, Visualization codes, etc.), with reference to the resources you used during the project. If you build an application, a visualization tool, a dashboard or a website, you may also submit the link to that. Your submission will be on NTULearn (the video), plus a link to your Github repository (for code and other materials).\n",
    "Note : Guidelines on Presentation and Submission of Project will be communicated closer to the deadline.\n",
    "\n",
    "How is my \"individual contribution\" judged for the project?\n",
    "Your individual contribution to the mini-project will be judged through Peer Assessment, where your Group mates are going to judge your contribution to the project. Each one of you will be asked to judge your own individual contribution against the contribution of each of the other Group mates working together on this. The primary component of your marks will be awarded for the Group effort, and then it will be \"scaled\" based on your overall peer-assessment score.\n",
    "Note : There will be a scope for you to clearly comment on why you graded a team-mate the way you did. This comment is mandatory, as it will help us resolve conflicts within the team, and justify the Peer Evaluation scores to you and your team-mates, if required at any point of time.\n"
   ]
  }
 ],
 "metadata": {
  "language_info": {
   "name": "python"
  }
 },
 "nbformat": 4,
 "nbformat_minor": 2
}
