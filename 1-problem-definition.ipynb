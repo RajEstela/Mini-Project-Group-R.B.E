{
 "cells": [
  {
   "cell_type": "markdown",
   "metadata": {},
   "source": [
    "# Problem Definitions\n",
    "\n",
    "1. What champion composition for each position will maximize the chances of winning?\n",
    "2. What is the most optimal and suitable game variable in predicting the total combined gold value? Amongst these variables Total kills, Total minion score, Neutral Objectives and Structures taken down.\n",
    "3. Can we accurately predict the outcome of the match? Based on team compositions, total gold earned, kill score, creep scores, neutral objectives score, and structures taken score."
   ]
  },
  {
   "cell_type": "markdown",
   "metadata": {},
   "source": [
    "## Datasets Description\n",
    "\n",
    "### 1. League of Legends - 2024 Competitive Game Dataset\n",
    "\n",
    "This dataset contains information on official competitive matches, including match outcomes, team compositions, game duration, and other relevant attributes. Each record represents a single game played by two teams in a professional setting. This will be the main dataset for the Exploratory Data Analysis.\n",
    "\n",
    "Source - `https://www.kaggle.com/datasets/barthetur/league-of-legends-2024-competitive-game-dataset`\n",
    "\n",
    "### 2. Champions Dataset\n",
    "\n",
    "This dataset offers detailed information about individual champions in League of Legends, such as their name, attributes, abilities, roles, and other pertinent statistics. Each entry in this dataset corresponds to a specific champion. This dataset will supplement the main dataset with the information of each champion, specifically the champion's class.\n",
    "\n",
    "Source - `https://www.kaggle.com/datasets/uskeche/leauge-of-legends-champions-dataset`"
   ]
  },
  {
   "cell_type": "markdown",
   "metadata": {},
   "source": [
    "## Key Tasks\n",
    "\n",
    "### Data Preparation and Cleaning\n",
    "Prepare and clean the datasets to ensure compatibility and accuracy for analysis. This includes handling missing values, standardizing data formats, removing irrelevant information and merging relevant information from both datasets.\n",
    "\n",
    "### Exploratory Data Analysis\n",
    "Conduct exploratory analysis on the combined dataset to gain insights into the distribution of champion picks, win rates, gold earned, objective scores and other relevant factors. Explore correlations between champion attributes and match outcomes to identify potential patterns and exploring correlations between gold affecting variables to total gold. \n",
    "\n",
    "### Model Development\n",
    "Build predictive models or algorithms to identify optimal variable that will accurately predict the total combined value of gold in a game. This may involve techniques such as machine learning and statistical analysis.\n",
    "\n",
    "### Insights and Recommendations\n",
    "Provide actionable insights and recommendations based on the analysis results. Identify the specific champion combination that demonstrate the highest potential for success in competitive play, along with which game variable a team should focus on the most to maximise the amount of gold they earn in the game."
   ]
  },
  {
   "cell_type": "markdown",
   "metadata": {},
   "source": [
    "## Success Criteria\n",
    "\n",
    "The project will be considered successful if it can accurately identify champion combinations that consistently result in high win rates in professional League of Legends competitive matches. Success will be measured based on the predictive accuracy and practical applicability of the developed models, as well as the significance of the insights and recommendations provided."
   ]
  }
 ],
 "metadata": {
  "language_info": {
   "name": "python"
  }
 },
 "nbformat": 4,
 "nbformat_minor": 2
}
